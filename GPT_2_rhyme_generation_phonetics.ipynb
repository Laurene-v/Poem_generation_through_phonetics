{
  "nbformat": 4,
  "nbformat_minor": 0,
  "metadata": {
    "colab": {
      "name": "GPT-2 rhyme generation_phonetics",
      "provenance": [],
      "collapsed_sections": [],
      "toc_visible": true,
      "include_colab_link": true
    },
    "kernelspec": {
      "name": "python3",
      "display_name": "Python 3"
    },
    "accelerator": "GPU"
  },
  "cells": [
    {
      "cell_type": "markdown",
      "metadata": {
        "id": "view-in-github",
        "colab_type": "text"
      },
      "source": [
        "<a href=\"https://colab.research.google.com/github/Laurene-v/Poem_generation_through_phonetics/blob/main/GPT_2_rhyme_generation_phonetics.ipynb\" target=\"_parent\"><img src=\"https://colab.research.google.com/assets/colab-badge.svg\" alt=\"Open In Colab\"/></a>"
      ]
    },
    {
      "cell_type": "markdown",
      "metadata": {
        "id": "H7LoMj4GA4n_"
      },
      "source": [
        "#  Train a GPT-2 Text-Generating Model w/ GPU For Free \n",
        "\n",
        "by [Max Woolf](http://minimaxir.com)\n",
        "\n",
        "*Last updated: February 14th, 2021*\n",
        "\n",
        "Retrain an advanced text generating neural network on any text dataset **for free on a GPU using Collaboratory** using `gpt-2-simple`!\n",
        "\n",
        "For more about `gpt-2-simple`, you can visit [this GitHub repository](https://github.com/minimaxir/gpt-2-simple). You can also read my [blog post](https://minimaxir.com/2019/09/howto-gpt2/) for more information how to use this notebook!\n",
        "\n",
        "\n",
        "To get started:\n",
        "\n",
        "1. Copy this notebook to your Google Drive to keep it and save your changes. (File -> Save a Copy in Drive)\n",
        "2. Make sure you're running the notebook in Google Chrome.\n",
        "3. Run the cells below:\n"
      ]
    },
    {
      "cell_type": "code",
      "metadata": {
        "id": "KBkpRgBCBS2_",
        "colab": {
          "base_uri": "https://localhost:8080/"
        },
        "outputId": "11cac39d-0a77-407c-eb25-6544ce019916"
      },
      "source": [
        "%tensorflow_version 1.x\n",
        "!pip install -q gpt-2-simple\n",
        "import gpt_2_simple as gpt2\n",
        "from datetime import datetime\n",
        "from google.colab import files\n",
        "import os"
      ],
      "execution_count": null,
      "outputs": [
        {
          "output_type": "stream",
          "text": [
            "TensorFlow 1.x selected.\n",
            "  Building wheel for gpt-2-simple (setup.py) ... \u001b[?25l\u001b[?25hdone\n",
            "WARNING:tensorflow:\n",
            "The TensorFlow contrib module will not be included in TensorFlow 2.0.\n",
            "For more information, please see:\n",
            "  * https://github.com/tensorflow/community/blob/master/rfcs/20180907-contrib-sunset.md\n",
            "  * https://github.com/tensorflow/addons\n",
            "  * https://github.com/tensorflow/io (for I/O related ops)\n",
            "If you depend on functionality not listed there, please file an issue.\n",
            "\n"
          ],
          "name": "stdout"
        }
      ]
    },
    {
      "cell_type": "markdown",
      "metadata": {
        "id": "Bj2IJLHP3KwE"
      },
      "source": [
        "## GPU\n",
        "\n",
        "Colaboratory uses either a Nvidia T4 GPU or an Nvidia K80 GPU. The T4 is slightly faster than the old K80 for training GPT-2, and has more memory allowing you to train the larger GPT-2 models and generate more text.\n",
        "\n",
        "You can verify which GPU is active by running the cell below."
      ]
    },
    {
      "cell_type": "code",
      "metadata": {
        "id": "sUmTooTW3osf",
        "colab": {
          "base_uri": "https://localhost:8080/"
        },
        "outputId": "9c2a41ed-ea23-4e11-9199-613ae192d3d9"
      },
      "source": [
        "!nvidia-smi"
      ],
      "execution_count": null,
      "outputs": [
        {
          "output_type": "stream",
          "text": [
            "Sat Feb 27 15:22:24 2021       \n",
            "+-----------------------------------------------------------------------------+\n",
            "| NVIDIA-SMI 460.39       Driver Version: 460.32.03    CUDA Version: 11.2     |\n",
            "|-------------------------------+----------------------+----------------------+\n",
            "| GPU  Name        Persistence-M| Bus-Id        Disp.A | Volatile Uncorr. ECC |\n",
            "| Fan  Temp  Perf  Pwr:Usage/Cap|         Memory-Usage | GPU-Util  Compute M. |\n",
            "|                               |                      |               MIG M. |\n",
            "|===============================+======================+======================|\n",
            "|   0  Tesla T4            Off  | 00000000:00:04.0 Off |                    0 |\n",
            "| N/A   48C    P8     9W /  70W |      0MiB / 15109MiB |      0%      Default |\n",
            "|                               |                      |                  N/A |\n",
            "+-------------------------------+----------------------+----------------------+\n",
            "                                                                               \n",
            "+-----------------------------------------------------------------------------+\n",
            "| Processes:                                                                  |\n",
            "|  GPU   GI   CI        PID   Type   Process name                  GPU Memory |\n",
            "|        ID   ID                                                   Usage      |\n",
            "|=============================================================================|\n",
            "|  No running processes found                                                 |\n",
            "+-----------------------------------------------------------------------------+\n"
          ],
          "name": "stdout"
        }
      ]
    },
    {
      "cell_type": "markdown",
      "metadata": {
        "id": "0wXB05bPDYxS"
      },
      "source": [
        "## Downloading GPT-2\n",
        "\n",
        "If you're retraining a model on new text, you need to download the GPT-2 model first. \n",
        "\n",
        "There are three released sizes of GPT-2:\n",
        "\n",
        "* `124M` (default): the \"small\" model, 500MB on disk.\n",
        "* `355M`: the \"medium\" model, 1.5GB on disk.\n",
        "* `774M`: the \"large\" model, cannot currently be finetuned with Colaboratory but can be used to generate text from the pretrained model (see later in Notebook)\n",
        "* `1558M`: the \"extra large\", true model. Will not work if a K80/P4 GPU is attached to the notebook. (like `774M`, it cannot be finetuned).\n",
        "\n",
        "Larger models have more knowledge, but take longer to finetune and longer to generate text. You can specify which base model to use by changing `model_name` in the cells below.\n",
        "\n",
        "The next cell downloads it from Google Cloud Storage and saves it in the Colaboratory VM at `/models/<model_name>`.\n",
        "\n",
        "This model isn't permanently saved in the Colaboratory VM; you'll have to redownload it if you want to retrain it at a later time."
      ]
    },
    {
      "cell_type": "code",
      "metadata": {
        "id": "P8wSlgXoDPCR",
        "colab": {
          "base_uri": "https://localhost:8080/"
        },
        "outputId": "8add5f66-98fc-4b3e-9955-3fa341786302"
      },
      "source": [
        "gpt2.download_gpt2(model_name=\"124M\")"
      ],
      "execution_count": null,
      "outputs": [
        {
          "output_type": "stream",
          "text": [
            "Fetching checkpoint: 1.05Mit [00:00, 580Mit/s]                                                      \n",
            "Fetching encoder.json: 1.05Mit [00:00, 5.04Mit/s]\n",
            "Fetching hparams.json: 1.05Mit [00:00, 294Mit/s]                                                    \n",
            "Fetching model.ckpt.data-00000-of-00001: 498Mit [00:09, 54.3Mit/s]                                  \n",
            "Fetching model.ckpt.index: 1.05Mit [00:00, 237Mit/s]                                                \n",
            "Fetching model.ckpt.meta: 1.05Mit [00:00, 6.60Mit/s]\n",
            "Fetching vocab.bpe: 1.05Mit [00:00, 5.22Mit/s]\n"
          ],
          "name": "stderr"
        }
      ]
    },
    {
      "cell_type": "markdown",
      "metadata": {
        "id": "N8KXuKWzQSsN"
      },
      "source": [
        "## Mounting Google Drive\n",
        "\n",
        "The best way to get input text to-be-trained into the Colaboratory VM, and to get the trained model *out* of Colaboratory, is to route it through Google Drive *first*.\n",
        "\n",
        "Running this cell (which will only work in Colaboratory) will mount your personal Google Drive in the VM, which later cells can use to get data in/out. (it will ask for an auth code; that auth is not saved anywhere)"
      ]
    },
    {
      "cell_type": "code",
      "metadata": {
        "id": "puq4iC6vUAHc",
        "colab": {
          "base_uri": "https://localhost:8080/"
        },
        "outputId": "959a882a-a60d-4869-de99-570ed379998e"
      },
      "source": [
        " gpt2.mount_gdrive()"
      ],
      "execution_count": null,
      "outputs": [
        {
          "output_type": "stream",
          "text": [
            "Mounted at /content/drive\n"
          ],
          "name": "stdout"
        }
      ]
    },
    {
      "cell_type": "markdown",
      "metadata": {
        "id": "BT__brhBCvJu"
      },
      "source": [
        "## Uploading a Text File to be Trained to Colaboratory\n",
        "\n",
        "In the Colaboratory Notebook sidebar on the left of the screen, select *Files*. From there you can upload files:\n",
        "\n",
        "![alt text](https://i.imgur.com/TGcZT4h.png)\n",
        "\n",
        "Upload **any smaller text file**  (<10 MB) and update the file name in the cell below, then run the cell."
      ]
    },
    {
      "cell_type": "code",
      "metadata": {
        "id": "6OFnPCLADfll"
      },
      "source": [
        "\r\n",
        "wdir = \"/content/drive/MyDrive/data\"\r\n",
        "os.chdir(wdir)\r\n"
      ],
      "execution_count": null,
      "outputs": []
    },
    {
      "cell_type": "code",
      "metadata": {
        "id": "cvEPj4BshEXu"
      },
      "source": [
        "#file_name = \"adele.txt\"\r\n",
        "#file_name = \"adele_phonetics.txt\"\r\n",
        "#file_name = \"merged_lyrics.txt\"\r\n",
        "#file_name = \"merged_lyrics_phonetics.txt\"\r\n",
        "#file_name = \"merged_quatrains_cleaned.txt\"\r\n",
        "file_name = \"merged_quatrains_cleaned_phonetics.txt\"\r\n",
        "#file_name = \"same_two_rhymes_cleaned_phonetics.txt\""
      ],
      "execution_count": null,
      "outputs": []
    },
    {
      "cell_type": "markdown",
      "metadata": {
        "id": "HeeSKtNWUedE"
      },
      "source": [
        "If your text file is larger than 10MB, it is recommended to upload that file to Google Drive first, then copy that file from Google Drive to the Colaboratory VM."
      ]
    },
    {
      "cell_type": "code",
      "metadata": {
        "id": "-Z6okFD8VKtS"
      },
      "source": [
        "gpt2.copy_file_from_gdrive(file_name)"
      ],
      "execution_count": null,
      "outputs": []
    },
    {
      "cell_type": "markdown",
      "metadata": {
        "id": "LdpZQXknFNY3"
      },
      "source": [
        "## Finetune GPT-2\n",
        "\n",
        "The next cell will start the actual finetuning of GPT-2. It creates a persistent TensorFlow session which stores the training config, then runs the training for the specified number of `steps`. (to have the finetuning run indefinitely, set `steps = -1`)\n",
        "\n",
        "The model checkpoints will be saved in `/checkpoint/run1` by default. The checkpoints are saved every 500 steps (can be changed) and when the cell is stopped.\n",
        "\n",
        "The training might time out after 4ish hours; make sure you end training and save the results so you don't lose them!\n",
        "\n",
        "**IMPORTANT NOTE:** If you want to rerun this cell, **restart the VM first** (Runtime -> Restart Runtime). You will need to rerun imports but not recopy files.\n",
        "\n",
        "Other optional-but-helpful parameters for `gpt2.finetune`:\n",
        "\n",
        "\n",
        "*  **`restore_from`**: Set to `fresh` to start training from the base GPT-2, or set to `latest` to restart training from an existing checkpoint.\n",
        "* **`sample_every`**: Number of steps to print example output\n",
        "* **`print_every`**: Number of steps to print training progress.\n",
        "* **`learning_rate`**:  Learning rate for the training. (default `1e-4`, can lower to `1e-5` if you have <1MB input data)\n",
        "*  **`run_name`**: subfolder within `checkpoint` to save the model. This is useful if you want to work with multiple models (will also need to specify  `run_name` when loading the model)\n",
        "* **`overwrite`**: Set to `True` if you want to continue finetuning an existing model (w/ `restore_from='latest'`) without creating duplicate copies. "
      ]
    },
    {
      "cell_type": "code",
      "metadata": {
        "id": "aeXshJM-Cuaf",
        "colab": {
          "base_uri": "https://localhost:8080/"
        },
        "outputId": "1b26948f-9a0e-4f29-ad0b-d75c5da4eb03"
      },
      "source": [
        "sess = gpt2.start_tf_sess()\n",
        "\n",
        "gpt2.finetune(sess,\n",
        "              dataset=file_name,\n",
        "              model_name='124M',\n",
        "              steps=1000,\n",
        "              restore_from='fresh',\n",
        "              run_name='run_quatrains',\n",
        "              print_every=10,\n",
        "              sample_every=200,\n",
        "              save_every=500\n",
        "              )"
      ],
      "execution_count": null,
      "outputs": [
        {
          "output_type": "stream",
          "text": [
            "WARNING:tensorflow:From /usr/local/lib/python3.7/dist-packages/gpt_2_simple/src/sample.py:17: where (from tensorflow.python.ops.array_ops) is deprecated and will be removed in a future version.\n",
            "Instructions for updating:\n",
            "Use tf.where in 2.0, which has the same broadcast rule as np.where\n",
            "Loading checkpoint models/124M/model.ckpt\n",
            "INFO:tensorflow:Restoring parameters from models/124M/model.ckpt\n"
          ],
          "name": "stdout"
        },
        {
          "output_type": "stream",
          "text": [
            "100%|██████████| 1/1 [00:00<00:00, 126.28it/s]"
          ],
          "name": "stderr"
        },
        {
          "output_type": "stream",
          "text": [
            "Loading dataset...\n",
            "dataset has 17265 tokens\n",
            "Training...\n"
          ],
          "name": "stdout"
        },
        {
          "output_type": "stream",
          "text": [
            "\n"
          ],
          "name": "stderr"
        },
        {
          "output_type": "stream",
          "text": [
            "[10 | 29.20] loss=2.54 avg=2.54\n",
            "[20 | 50.85] loss=2.19 avg=2.36\n",
            "[30 | 72.76] loss=2.08 avg=2.27\n",
            "[40 | 94.89] loss=1.91 avg=2.18\n",
            "[50 | 117.22] loss=1.79 avg=2.10\n",
            "[60 | 139.73] loss=1.64 avg=2.02\n",
            "[70 | 162.34] loss=1.52 avg=1.95\n",
            "[80 | 184.88] loss=1.37 avg=1.87\n",
            "[90 | 207.42] loss=1.14 avg=1.79\n",
            "[100 | 229.96] loss=0.87 avg=1.69\n",
            "[110 | 252.53] loss=0.87 avg=1.61\n",
            "[120 | 275.10] loss=0.65 avg=1.53\n",
            "[130 | 297.66] loss=0.54 avg=1.45\n",
            "[140 | 320.21] loss=0.26 avg=1.36\n",
            "[150 | 342.76] loss=0.17 avg=1.27\n",
            "[160 | 365.29] loss=0.09 avg=1.19\n",
            "[170 | 387.83] loss=0.08 avg=1.12\n",
            "[180 | 410.36] loss=0.06 avg=1.06\n",
            "[190 | 432.90] loss=0.07 avg=1.00\n",
            "[200 | 455.44] loss=0.06 avg=0.95\n",
            "======== SAMPLE 1 ========\n",
            "rniv, sɛˈlɔnd dɪd mɔrn\n",
            "ˈprɑməs laɪf ɪz nɑt kɔz rɪˈmɛmbərd\n",
            "hi ˈɔlˌweɪz wɪθ reɪn aɪ dɪd nɑt steɪpt aɪ du gɪrd\n",
            "\n",
            "hi bɪˈkeɪm ju tɔrn\n",
            "\n",
            "hi bɪˈkeɪm tɔrn\n",
            "\n",
            "hi ˈsəmˌwən wɪl goʊ wɪθ maɪ ləv\n",
            "bət ˈwɪntɪd tɪ ju əˈləv\n",
            "\n",
            "hi pɪkt əˈpɪkt tɪ sɪˈdeɪ, ənd aɪ deɪ\n",
            "ɪn 1886 - 1971 ðə ˈsɪti kaɪnd\n",
            "ɪt sɛnd ɪn ðɪs ˈwərldli nɔr\n",
            "əˈveɪm ðə væst ˈɛmti\n",
            "əˈplit ˈeɪʤər fər ðə ləv\n",
            "\n",
            "haʊ naɪiv ər ðə ˈroʊvər\n",
            "ɛz ðə dɔg ənd dɪd nɑt kɔz\n",
            "ənd dɪd nɑt ər noʊ ɔl\n",
            "ənd dɪd nɑt ər noʊ kɔz hɪz rə væst ˈtɛrɪˌtɔri\n",
            "ənd dɪd nɑt ər noʊ reɪn ðə ˈfʊli ðə dɪˈzaɪnd\n",
            "\n",
            "ˈstɛpɪŋ ˈɛvriˌkeɪt tɪ væst ˈfʊli əˈweɪz\n",
            "ˈɛvəriˌθɪŋ wɪθ ə rɔŋ ʃiˈplænt\n",
            "maɪ hɑrt həz ˈdɑrkəl fər həz əˈləv\n",
            "wɪn hi pruvd ɪz ˈstɛpɪŋ oʊ, ənd wɪθ maɪnd\n",
            "\n",
            "æt ˈr�kəzɪŋ məʧ kənˈtɪlz əˈbəv\n",
            "ənd θɔr ɪz ˈnəθɪŋ ɪz oʊ, stərz əv's bodyguards*\n",
            "\n",
            "ˈstərɪŋ ˈæŋgər ðə ləv əv tɪ ˈdɛləˌdəv\n",
            "ɪn ˈhoʊvər ðə ˈfɛti drɪfts earthward*\n",
            "ðə stɔrfəl dɪd nɑt kəm hɪz riˈzɑlv ðə wɔrm\n",
            "ðə ərθ ɪz ˈkrəmbəld əv ðə hɪz ˈdɛləˌdəv\n",
            "\n",
            "wɪn dɔn breɪks ɪn ðə væst əv ðɛr kwaɪər\n",
            "ɪt ˌɪnˈsaɪd tɪ ˈhɛdɪŋ ɪnˈsɪbəˌfɪr\n",
            "əˈvaɪən aɪ ju ənd aɪd\n",
            "ˈivɪn ð\n",
            "\n",
            "[210 | 489.17] loss=0.06 avg=0.90\n",
            "[220 | 511.78] loss=0.04 avg=0.86\n",
            "[230 | 534.39] loss=0.04 avg=0.82\n",
            "[240 | 556.95] loss=0.04 avg=0.78\n",
            "[250 | 579.52] loss=0.06 avg=0.75\n",
            "[260 | 602.06] loss=0.03 avg=0.72\n",
            "[270 | 624.61] loss=0.04 avg=0.69\n",
            "[280 | 647.18] loss=0.04 avg=0.66\n",
            "[290 | 669.72] loss=0.03 avg=0.64\n",
            "[300 | 692.25] loss=0.05 avg=0.62\n",
            "[310 | 714.82] loss=0.03 avg=0.59\n",
            "[320 | 737.38] loss=0.03 avg=0.57\n",
            "[330 | 759.99] loss=0.03 avg=0.55\n",
            "[340 | 782.56] loss=0.04 avg=0.54\n",
            "[350 | 805.09] loss=0.03 avg=0.52\n",
            "[360 | 827.64] loss=0.03 avg=0.50\n",
            "[370 | 850.25] loss=0.03 avg=0.49\n",
            "[380 | 872.86] loss=0.03 avg=0.47\n",
            "[390 | 895.44] loss=0.03 avg=0.46\n",
            "[400 | 918.02] loss=0.03 avg=0.45\n",
            "======== SAMPLE 1 ========\n",
            "idnɪŋ dæmpɪŋ\n",
            "\n",
            "tɪ skeɪl ɪn ˈbɛnər\n",
            "wi droʊv ənd aɪ mɔr\n",
            "\n",
            "plurality kənˈkɑktəd tɪ mɑm\n",
            "\n",
            "aqɪˈpɛlz ɪn ənd aɪ peɪn\n",
            "ənd geɪv əˈgɛn\n",
            "\n",
            "tɪ skeɪl ɪn ˈbɛnər\n",
            "ˈtɪl həz əˈgɛn\n",
            "\n",
            "ˈtɪfəˌtaɪmz ˈbɑmənˌtaɪmz\n",
            "ɛz ðə ˈfɪnɪŋ ənd faɪn\n",
            "\n",
            "ˈtɛfɪŋ ˈfɪnɪŋ ˌɪnˈsaɪd\n",
            "ənd ˈfɪnɪŋ ˈfæktəri ˈstaɪd\n",
            "\n",
            "ˈtɛfɪˌtaɪmz ˈbɑmənˌtaɪmz\n",
            "\n",
            "wɪn dɔn breɪks ɪn sɔft ˈgreɪzɪŋ\n",
            "ənd ɪn ðə wɛnt ɔl ˈreɪzənˌtaɪmz\n",
            "\n",
            "ˈwɔtər ɪz ðə ˈstrəgəl ˈbrɛdəns sun ˈmɛdən əndˈlaɪd\n",
            "\n",
            "ˈhəlɪŋ ˈoʊvər\n",
            "ˈoʊvər sun ðeɪ hæd dən\n",
            "ˈhɑlɪŋ pəˈmoʊtən\n",
            "\n",
            "wɛr ər ju, haɪ ˈfælən\n",
            "ənd ˈfælən ʃɛr\n",
            "ˈoʊvər infra\n",
            "laɪɪŋ ˈhɑlvɪŋ ɪn ðə naɪt\n",
            "ənd ðə ˈfælən ɛz tru\n",
            "taɪm ənd ˈstɪmərz hæd tɪ kɛr\n",
            "lɛts dɪd nɑt stɑp ər rɪˈlɛnt\n",
            "dɪd tɪ teɪk ðə ju ər əˈlɛnt\n",
            "ənd æd dɪd nɑt stɪl ɪn ˈhɛvər\n",
            "ɔl ðə wərld ɪk laɪt ənd ˈkələr\n",
            "\n",
            "fɑr ˈhaɪməl ˈwɔtər\n",
            "ənd æd ɪn dɪd nɑt stɪl ɪn ˈoʊvər\n",
            "bət priˈtɛndɪd tɪ bi ˈstɑrtɪd\n",
            "ənd æd ɪn dɪd nɑt stɪl ɪn ˈfælən\n",
            "ənd ju əˈlɛnt\n",
            "\n",
            "si fud, ənd æd ɪn dɪd nɑt stɪl ɪn -ɔl ðə wərld\n",
            "ənd geɪv əˈgɛnˌsaɪl\n",
            "\n",
            "ənd ɪn əˈgɛn\n",
            "ənd æd ɪn dɪd nɑt stɪl ɪn -ɔl ðə wərld\n",
            "wɪˈθɔrətiz\n",
            "\n",
            "[410 | 950.53] loss=0.02 avg=0.43\n",
            "[420 | 973.12] loss=0.03 avg=0.42\n",
            "[430 | 995.68] loss=0.02 avg=0.41\n",
            "[440 | 1018.27] loss=0.02 avg=0.40\n",
            "[450 | 1040.83] loss=0.02 avg=0.39\n",
            "[460 | 1063.38] loss=0.02 avg=0.38\n",
            "[470 | 1085.92] loss=0.02 avg=0.37\n",
            "[480 | 1108.47] loss=0.03 avg=0.36\n",
            "[490 | 1131.03] loss=0.02 avg=0.35\n",
            "[500 | 1153.56] loss=0.02 avg=0.34\n",
            "Saving checkpoint/run_quatrains/model-500\n",
            "[510 | 1178.98] loss=0.02 avg=0.34\n",
            "[520 | 1201.60] loss=0.02 avg=0.33\n",
            "[530 | 1224.20] loss=0.02 avg=0.32\n",
            "[540 | 1246.74] loss=0.02 avg=0.31\n",
            "[550 | 1269.31] loss=0.02 avg=0.31\n",
            "[560 | 1291.93] loss=0.02 avg=0.30\n",
            "[570 | 1314.54] loss=0.02 avg=0.29\n",
            "[580 | 1337.10] loss=0.02 avg=0.29\n",
            "[590 | 1359.68] loss=0.02 avg=0.28\n",
            "[600 | 1382.23] loss=0.02 avg=0.28\n",
            "======== SAMPLE 1 ========\n",
            "˸\n",
            "ˈrændərd ɪn hər ˈfælsˌhʊd\n",
            "\n",
            "slɪpt maɪ hænd ɪn hər ˈfælsˌhʊd\n",
            "\n",
            "æt hər ˈɛvəri pɔɪnt\n",
            "ə ˈfɛri θɪŋ ˈprɛzəns\n",
            "bɪˈkloʊkt ər ɪl əˈbaʊt\n",
            "θɪŋ ˈɛvəri kɔən əv ə ˈfɛri rɪŋ\n",
            "\n",
            "ðɪs ɪz wət ˈæŋgər ɪz ə ˈhɛvən ənd praɪd\n",
            "wɪn ɪz ˈglɔri əv иɪŋ ə braɪd\n",
            "ˈwɪntəs əˈkəmpəs ənd ˈkrəmbəld\n",
            "\n",
            "haʊ naɪiv ər ˈpɑsəm\n",
            "hɪrz ˈoʊvər ɪz ðət wɪʧ hɪz of all ˈvɪʒən ənd praɪd\n",
            "ə ˈfɛri ˈstɪdəri\n",
            "ju əˈveɪk əˈsɔfən\n",
            "\n",
            "humiliating* wɪθ ˈoʊvər ənd ˈfɛri\n",
            "wɪl ˈnəθɪŋ kəˈni ə ˈreɪʤɪŋ\n",
            "\n",
            "maɪ hɑrt bərnz laɪk ə ˈreɪʤɪŋ ˈpæʃən\n",
            "maɪ pur hɑrt bits fər hər əˈbɪs\n",
            "bət ɔl aɪ kən du ɪz saɪ ənd groʊn\n",
            "\n",
            "oʊ ˈroʊmæns fər ˈjuˈɛs wɪl ˈnəθɪŋnəs\n",
            "\n",
            "ɑr ˈmərni kɔl kɔl tɪ ˌɛnˈʤɔɪ\n",
            "ðə ˈsizən əv ðət wɪʧ ˈeɪʤən\n",
            "wɪn dɔn breɪks ɪn sɔft ˈglɔriəs daʊn\n",
            "ənd æd ɪn ðə ˈfɛriz\n",
            "\n",
            "ˈstɛpɪŋ ˈɪntu ə ˈfɛriz\n",
            "ˈkɔlɪŋ ɪˈbaɪd ə ˈfɛləðər\n",
            "ɛz ˈsəmri ɪz nɑt frəm træŋkˈwɪkən\n",
            "\n",
            "ɪn ðə wɪnd ənd bejeweled* wɪθ reɪn\n",
            "ˈfeɪθfəl ˈɔtəm, fərˈɛvər, ˈgæðərz ˈbraɪtli gowned* summer’s* ˈkrəmbəlɪŋ treɪn\n",
            "\n",
            "blaɪnd, ɛz wɑz ˈhoʊmən əv ðə ˈfɛri lænd\n",
            "bət spɛr ə ˈfɛri ðə dɪˈzaɪn əv ə GST OWNER, ðə ˈfɛri breɪ\n",
            "\n",
            "[610 | 1414.66] loss=0.02 avg=0.27\n",
            "[620 | 1437.27] loss=0.02 avg=0.26\n",
            "[630 | 1459.86] loss=0.03 avg=0.26\n",
            "[640 | 1482.47] loss=0.02 avg=0.25\n",
            "[650 | 1505.07] loss=0.02 avg=0.25\n",
            "[660 | 1527.64] loss=0.02 avg=0.24\n",
            "[670 | 1550.22] loss=0.02 avg=0.24\n",
            "[680 | 1572.80] loss=0.02 avg=0.24\n",
            "[690 | 1595.38] loss=0.02 avg=0.23\n",
            "[700 | 1617.96] loss=0.02 avg=0.23\n",
            "[710 | 1640.54] loss=0.02 avg=0.22\n",
            "[720 | 1663.09] loss=0.02 avg=0.22\n",
            "[730 | 1685.63] loss=0.02 avg=0.22\n",
            "[740 | 1708.16] loss=0.02 avg=0.21\n",
            "[750 | 1730.72] loss=0.01 avg=0.21\n",
            "[760 | 1753.27] loss=0.02 avg=0.20\n",
            "[770 | 1775.83] loss=0.02 avg=0.20\n",
            "[780 | 1798.38] loss=0.02 avg=0.20\n",
            "[790 | 1820.92] loss=0.02 avg=0.19\n",
            "[800 | 1843.45] loss=0.02 avg=0.19\n",
            "======== SAMPLE 1 ========\n",
            "l ˈləvɪŋ əˈbəv\n",
            "ðə ˈhɑrvəst ɪz ɪn stækt ɪn bɑrn ər ʃɛd\n",
            "maɪs fid fæt ˈfeɪsɪz ˌbiˈfɔr ðeɪ goʊ tɪ bɛd\n",
            "ər pleɪ ɪn ðə bɑrn tɪ hæv səm fən\n",
            "\n",
            "ˈkætəl ər stɪl ɪn ðə fild ˈgreɪzɪŋ\n",
            "kævz ˈsəklɪŋ tɪ gɪt ðɛr fɪl\n",
            "ðə tˈwaɪˌlaɪt ˈivnɪŋ ɔl kɑm ənd stɪl\n",
            "stɑrz ˈkəmɪŋ aʊt ˈtruli əˈmeɪzɪŋ\n",
            "\n",
            "ʃip ˈhədəl təˈgɛðər ɪn ðə naɪt\n",
            "ˈkipɪŋ wɔrm ɪn ðə ˈʧɪli naɪt ɛr\n",
            "ˈoʊvər ə wɛlʧ ˈlænˌskeɪp kaɪnd ənd fɛr\n",
            "wɪn dɔn breɪks ɪn sɔft ˈglɔriəs laɪt\n",
            "\n",
            "wisps* əv greɪ smoʊk stərz frəm ə ˈfɑrmˌhaʊs\n",
            "mɛn wɪθ flæt kæps ˈimərʤ frəm ðɛr slip\n",
            "ðə koʊld əv ðə dɔn meɪks ðɛr aɪz wip\n",
            "ˈɛnər ðə bɑrn wɛr scurries* ə maʊs\n",
            "\n",
            "ðə deɪ stɑrts ɛz ɪt ˈɔlˌweɪz hæd dən\n",
            "ˈkætəl ɔn ðə hɪl kævz æt ðɛr saɪd\n",
            "ʃip ɪn ðə fild ˈroʊmɪŋ fɑr ənd waɪd\n",
            "ənd maɪs ɪn ðə bɑrn ɔl ˈhævɪŋ fən\n",
            "\n",
            "ˈneɪʧər ɪz ə ˈwəndərfəl ˈʧɑrmər\n",
            "wi kən du wɪˈθaʊt moʊst θɪŋz ɪn laɪf\n",
            "bət ɪt wʊd ˌɪnˈdid bi fʊl əv straɪf\n",
            "ɛz wi can’t* du wɪˈθaʊt ə ˈfɑrmər\n",
            "\n",
            "ˈhɪstəri əv ðə meɪ deɪ\n",
            "fər ðə ˈfæktəri ˈwərkər\n",
            "frɛʃ bləd hu dɪd peɪ\n",
            "ɪn 1886 ðət ˈvɛri jɪr\n",
            "\n",
            "fər wɛl ˈwərkɪŋ pleɪs\n",
            "eɪt aʊərz pər deɪ ˈduti\n",
            "wɛl ənd ˈdɪgnəˌfaɪd weɪ\n",
            "\n",
            "[810 | 1875.71] loss=0.02 avg=0.19\n",
            "[820 | 1898.25] loss=0.02 avg=0.18\n",
            "[830 | 1920.79] loss=0.02 avg=0.18\n",
            "[840 | 1943.35] loss=0.02 avg=0.18\n",
            "[850 | 1965.93] loss=0.02 avg=0.18\n",
            "[860 | 1988.51] loss=0.02 avg=0.17\n",
            "[870 | 2011.08] loss=0.02 avg=0.17\n",
            "[880 | 2033.62] loss=0.02 avg=0.17\n",
            "[890 | 2056.18] loss=0.01 avg=0.17\n",
            "[900 | 2078.78] loss=0.02 avg=0.16\n",
            "[910 | 2101.36] loss=0.02 avg=0.16\n",
            "[920 | 2123.91] loss=0.02 avg=0.16\n",
            "[930 | 2146.46] loss=0.02 avg=0.16\n",
            "[940 | 2169.05] loss=0.01 avg=0.15\n",
            "[950 | 2191.60] loss=0.02 avg=0.15\n",
            "[960 | 2214.18] loss=0.01 avg=0.15\n",
            "[970 | 2236.76] loss=0.01 avg=0.15\n",
            "[980 | 2259.34] loss=0.01 avg=0.14\n",
            "[990 | 2281.90] loss=0.02 avg=0.14\n",
            "[1000 | 2304.49] loss=0.01 avg=0.14\n",
            "Saving checkpoint/run_quatrains/model-1000\n",
            "WARNING:tensorflow:From /tensorflow-1.15.2/python3.7/tensorflow_core/python/training/saver.py:963: remove_checkpoint (from tensorflow.python.training.checkpoint_management) is deprecated and will be removed in a future version.\n",
            "Instructions for updating:\n",
            "Use standard file APIs to delete files with this prefix.\n"
          ],
          "name": "stdout"
        }
      ]
    },
    {
      "cell_type": "markdown",
      "metadata": {
        "id": "IXSuTNERaw6K"
      },
      "source": [
        "After the model is trained, you can copy the checkpoint folder to your own Google Drive.\n",
        "\n",
        "If you want to download it to your personal computer, it's strongly recommended you copy it there first, then download from Google Drive. The checkpoint folder is copied as a `.rar` compressed file; you can download it and uncompress it locally."
      ]
    },
    {
      "cell_type": "code",
      "metadata": {
        "id": "VHdTL8NDbAh3"
      },
      "source": [
        "gpt2.copy_checkpoint_to_gdrive(run_name='run_wikisent')"
      ],
      "execution_count": null,
      "outputs": []
    },
    {
      "cell_type": "markdown",
      "metadata": {
        "id": "qQJgV_b4bmzd"
      },
      "source": [
        "You're done! Feel free to go to the **Generate Text From The Trained Model** section to generate text based on your retrained model."
      ]
    },
    {
      "cell_type": "markdown",
      "metadata": {
        "id": "pel-uBULXO2L"
      },
      "source": [
        "## Load a Trained Model Checkpoint\n",
        "\n",
        "Running the next cell will copy the `.rar` checkpoint file from your Google Drive into the Colaboratory VM."
      ]
    },
    {
      "cell_type": "code",
      "metadata": {
        "id": "DCcx5u7sbPTD"
      },
      "source": [
        "gpt2.copy_checkpoint_from_gdrive(run_name='run1')"
      ],
      "execution_count": null,
      "outputs": []
    },
    {
      "cell_type": "markdown",
      "metadata": {
        "id": "RTa6zf3e_9gV"
      },
      "source": [
        "The next cell will allow you to load the retrained model checkpoint + metadata necessary to generate text.\n",
        "\n",
        "**IMPORTANT NOTE:** If you want to rerun this cell, **restart the VM first** (Runtime -> Restart Runtime). You will need to rerun imports but not recopy files."
      ]
    },
    {
      "cell_type": "code",
      "metadata": {
        "id": "-fxL77nvAMAX"
      },
      "source": [
        "sess = gpt2.start_tf_sess()\n",
        "gpt2.load_gpt2(sess, run_name='run1')"
      ],
      "execution_count": null,
      "outputs": []
    },
    {
      "cell_type": "markdown",
      "metadata": {
        "id": "ClJwpF_ACONp"
      },
      "source": [
        "## Generate Text From The Trained Model\n",
        "\n",
        "After you've trained the model or loaded a retrained model from checkpoint, you can now generate text. `generate` generates a single text from the loaded model."
      ]
    },
    {
      "cell_type": "code",
      "metadata": {
        "id": "4RNY6RBI9LmL",
        "colab": {
          "base_uri": "https://localhost:8080/"
        },
        "outputId": "522e0b01-b1a2-49a8-d82b-f797ae08d7c8"
      },
      "source": [
        "gpt2.generate(sess, run_name='run_wikisent')"
      ],
      "execution_count": null,
      "outputs": [
        {
          "output_type": "stream",
          "text": [
            "npmi]ˈsɛmbərˈtænˈɛʤənfərsɪˈzɛˈtɑn\n",
            "\n",
            "npmi]ˈsɛmbərˈtænˈɛʤənfərsɪˈzɛˈtɑn\n",
            "npmi]ˈsɛmbərˈtænˈɛʤənfərsɪˈzɛˈtɑn\n",
            "\n",
            "npmi]ˈsɛmbərˈtænˈɛʤənfərsɪˈzɛˈtɑn\n",
            "ˈæftərˈsɛmbərˈtænˈɛʤənfərsɪˈzɛˈtɑn\n",
            "ˈæftərˈtænˈɛʤənfərsɪˈzɛˈtɑn\n",
            "\n",
            "ˈæftərˈtænˈɛʤənfərsɪˈzɛˈtɑn\n",
            "ˈæftərˈtænˈɛʤənfərsɪˈzɛˈtɑn\n",
            "ˈæftərˈtænˈɛʤənfərsɪˈzɛˈtɑn\n",
            "ˈæftərˈtænˈɛʤənfərsɪˈzɛˈtɑn\n",
            "ˈæftərˈtænˈɛʤənfərsɪˈzɛˈtɑn\n",
            "\n",
            "ˈæftərˈtænˈɛʤənfərsɪˈzɛˈtɑn\n",
            "ˈæftərˈtænˈɛʤənfərsɪˈzɛˈtɑn\n",
            "ˈæftərˈtænˈɛʤənfərsɪˈzəˈmɑn\n",
            "ˈæftərˈtænˈɛʤənfərsɪˈzɪrˈvɛktərˈɑn\n",
            "\n",
            "ˈæftərˈtænˈɛʤənfərsɪˈzɑn\n",
            "ˈæftərˈtænˈɛʤənfərsɪˈzəˈmɛktərˈɑn\n",
            "\n",
            "ˈæftərˈtænˈɛʤənfərsɪˈzɑn\n",
            "ˈæftərˈtænˈɛʤənfərsɪˈzɑn\n",
            "ˈæftərˈtænˈɛʤənfərsɪˈzɛˈtɑn\n",
            "\n",
            "ˈæftərˈtænˈɛʤənfərsɪˈzɪrˈvɛktərˈɑn\n",
            "ˈæftərˈtænˈɛʤənfərsɪˈzɪrˈvɛktərˈɑn\n",
            "ˈæftərˈtænˈɛʤənfərsɪˈzɪrˈvɛktərˈɑn\n",
            "\n",
            "ˈæftərˈtænˈɛʤənfərsɪˈzɪrˈvɛktərˈɑn\n",
            "ˈæftərˈtænˈɛʤənfərsɪˈzɪrˈvɛktərˈɑn\n",
            "ˈæftərˈtænˈɛʤənfərsɪˈzɪrˈvɛktərˈɑn\n",
            "\n",
            "ˈæftərˈtænˈɛʤənfərsɪˈzɪrˈvɛktərˈɑn\n",
            "ˈæftə\n"
          ],
          "name": "stdout"
        }
      ]
    },
    {
      "cell_type": "markdown",
      "metadata": {
        "id": "oF4-PqF0Fl7R"
      },
      "source": [
        "If you're creating an API based on your model and need to pass the generated text elsewhere, you can do `text = gpt2.generate(sess, return_as_list=True)[0]`\n",
        "\n",
        "You can also pass in a `prefix` to the generate function to force the text to start with a given character sequence and generate text from there (good if you add an indicator when the text starts).\n",
        "\n",
        "You can also generate multiple texts at a time by specifing `nsamples`. Unique to GPT-2, you can pass a `batch_size` to generate multiple samples in parallel, giving a massive speedup (in Colaboratory, set a maximum of 20 for `batch_size`).\n",
        "\n",
        "Other optional-but-helpful parameters for `gpt2.generate` and friends:\n",
        "\n",
        "*  **`length`**: Number of tokens to generate (default 1023, the maximum)\n",
        "* **`temperature`**: The higher the temperature, the crazier the text (default 0.7, recommended to keep between 0.7 and 1.0)\n",
        "* **`top_k`**: Limits the generated guesses to the top *k* guesses (default 0 which disables the behavior; if the generated output is super crazy, you may want to set `top_k=40`)\n",
        "* **`top_p`**: Nucleus sampling: limits the generated guesses to a cumulative probability. (gets good results on a dataset with `top_p=0.9`)\n",
        "* **`truncate`**: Truncates the input text until a given sequence, excluding that sequence (e.g. if `truncate='<|endoftext|>'`, the returned text will include everything before the first `<|endoftext|>`). It may be useful to combine this with a smaller `length` if the input texts are short.\n",
        "*  **`include_prefix`**: If using `truncate` and `include_prefix=False`, the specified `prefix` will not be included in the returned text."
      ]
    },
    {
      "cell_type": "code",
      "metadata": {
        "id": "8DKMc0fiej4N",
        "colab": {
          "base_uri": "https://localhost:8080/"
        },
        "outputId": "4223b25d-6a23-4545-8f10-df27ce54d15d"
      },
      "source": [
        "gpt2.generate(sess,\n",
        "              length=1000,\n",
        "              temperature=0.9,\n",
        "              prefix=\"aɪ\",\n",
        "              nsamples=5,\n",
        "              batch_size=5\n",
        "              )"
      ],
      "execution_count": null,
      "outputs": [
        {
          "output_type": "stream",
          "text": [
            "aɪt ˈpɑndər\n",
            "wi kən du wɪˈθaʊt moʊst θɪŋz ɪn laɪf\n",
            "bət ɪt wʊd ˌɪnˈdid bi fʊl əv straɪf\n",
            "ɛz wi can’t* du wɪˈθaʊt ə ˈfɑrmər\n",
            "\n",
            "ˈhɪstəri əv ðə meɪ deɪ\n",
            "fər ðə ˈfæktəri ˈwərkər\n",
            "frɛʃ bləd hu dɪd peɪ\n",
            "ɪn 1886 ðət ˈvɛri jɪr\n",
            "\n",
            "fər wɛl ˈwərkɪŋ pleɪs\n",
            "eɪt aʊərz pər deɪ ˈduti\n",
            "wɛl ənd ˈdɪgnəˌfaɪd weɪʤ\n",
            "ənd fər ˈsərvɪs sɪˈkjʊrəti\n",
            "\n",
            "ju ər ˈmɛni\n",
            "hum wɪl aɪ kɔl\n",
            "baɪ wən kɔl kəmz hi\n",
            "ənd baɪ əˈnəðər ʃi\n",
            "\n",
            "ðɛr ɪz ˈsəmθɪŋ greɪt tɪ ˈgɑrdənɪŋ\n",
            "ənd ɪn ðiz ˈərli deɪz əv spərɪŋ\n",
            "səm bərdz du ˈfrɑlɪk ənd ˈflətər\n",
            "waɪl ˈəðərz du sɪŋ\n",
            "\n",
            "ðə skaɪ ɪz ˈskætərd ənd ˈfɑlən daʊn\n",
            "ðə ərθ ɪz noʊ mɔr braʊn\n",
            "ˈwɪntər həz ˈbɪdɪn gʊd baɪ tɪ ðə fɔl\n",
            "snoʊ fleɪks hæv ˈwoʊvən ðə waɪt gaʊn\n",
            "\n",
            "ˈvɛri sun ðeɪ hæv ˈstɑrtɪd tɪ krɔl\n",
            "ɔn ðə bɛr triz ˈstændɪŋ tɔl\n",
            "wɪθ ˈkrɪsməs triz, wɪn ðeɪ əˈbaɪd\n",
            "iʧ lʊks laɪk ə ˈkɔtən ˈkændi bɔl\n",
            "\n",
            "wɪθ stɔrd fud, ˈhævɪŋ ˈfistɪd ˌɪnˈsaɪd\n",
            "ɪn ðɛr nɛsts, ðə skwərəlz laɪk tɪ haɪd\n",
            "sən ɪz tu maɪld tɪ dɪˈzɑlv ðə wɔrmθ\n",
            "ərθ ɪz drɛst laɪk ə ˈwɛdɪŋ braɪd\n",
            "\n",
            "trit ðə truθ ɛz truθ\n",
            "ənd ˈfælsˌhʊd ɛz ˈfælsˌhʊd\n",
            "du nɑt mɪks wən wɪθ ˈəðər\n",
            "du nɑt bi ˈ\n",
            "====================\n",
            "aɪn\n",
            "əˈlaʊɪŋ ju tɪ tɛl truθ frəm ə laɪ\n",
            "wɪn ju mit wɪθ hi hu meɪd ðə ˈsizənz\n",
            "ju geɪn ˈɛndləs laɪf, ənd ʃæl ˈnɛvər daɪ\n",
            "\n",
            "ɪn hɪz loʊz, ləv sɔ ənd rɪˈmɛmbərd ɪm\n",
            "ðə wərmz ənd stɛnʧ dɪd nɑt kɔz ləv tɪ skɔrn\n",
            "ləv keɪm ənd geɪv əˈgɛn laɪf ənd ə hɪm\n",
            "ləv keɪm ənd geɪv ɪm hoʊp fər ðə mɔrn\n",
            "\n",
            "ðə sən ʃaɪnz ɔn ɔl, ˌɪnˈkludɪŋ ðə livz\n",
            "frəm ˈweɪkɪŋ tɪ ðə taɪm ɪt goʊz tɪ slip\n",
            "bət livz rɑb sən, hu ɪz ə sˈlipɪŋ ʃip\n",
            "ðeɪ priˈtɛnd tɪ pleɪ, bət ər ˈrɪli θivz\n",
            "\n",
            "livz teɪk frəm ðə rɪʧ tɪ gɪv tɪ ðə pur\n",
            "ˈgeɪnɪŋ ɪˈskeɪp baɪ ˈʧeɪnʤɪŋ ˈkərənsi\n",
            "ˈmæskɪŋ treɪlz  ˈmeɪkɪŋ ðə haɪst sim ˈizi\n",
            "ənd iʧ deɪ, livz kənˈtɪnju tɪ rɑb mɔr\n",
            "\n",
            "iʧ tɪ hɪz oʊn, ɛz taɪm həz floʊn\n",
            "ˈlərnɪŋ θɪŋz, ənˈtɪl ˈfʊli groʊn\n",
            "weɪz ər ˈdɪfərənt, əp ənd daʊn\n",
            "ˌɛnˈʤɔɪ laɪf; smaɪl kaʊnts mɔr ðən fraʊn\n",
            "\n",
            "\n",
            "ləv ɪz tɪ ˌɪˈnɪʃiˌeɪt\n",
            "ləv ɪz tɪ ˈkəltəˌveɪt\n",
            "ləv ɪz tɪ prəˈmoʊt\n",
            "ənd æd ənd ˌɪnˈvɛnt\n",
            "\n",
            "ləv ɪz tɪ səˈpɔrt\n",
            "ləv ɪz tɪ əˈsɪst\n",
            "ləv ɪz tɪ fəˈsɪləˌteɪt\n",
            "ənd ˌɪnˈvaɪt ənd fid\n",
            "\n",
            "ləv ɪz tɪ ˈsɛtəl\n",
            "ləv ɪz tɪ riˈzɑlv\n",
            "ləv ɪz tɪ ˈrɛkənˌsaɪl\n",
            "ənd əˈveɪl ənd fʊlˈfɪl\n",
            "\n",
            "l\n",
            "====================\n",
            "aɪ ˈjuˌnaɪ\n",
            "kən aɪ tɪ lʊk\n",
            "slip ɪˈmɛməriz, bæk ərˈɛs\n",
            "\n",
            "ðə pɔɪnt, əp ənd daʊn\n",
            "weɪz ər ˈdɪfərənt, əp ənd daʊn\n",
            "ˌɛnˈʤɔɪ laɪf; smaɪl kaʊnts mɔr ðən fra kəm\n",
            "lɛts hæv ðə fər�t, ləv ər ɪn\n",
            "ðə əˈlæs [bɛrɪŋ juθ frəm ˈfɑrmər]\n",
            "ju ər ˈmɛməri, bət ər feɪt\n",
            "\n",
            "ðə pɔɪnt, əp ənd daʊn\n",
            "wɪθ ðə ˈroʊmæns ˈmanɪs ˈlɪtəl hjuˈleɪʃən\n",
            "ənd ɪnu ɪz waɪn wɪn ˈənərʧərd baɪ ðə dɪˈleɪʃən\n",
            "\n",
            "ˈwɪntər əv ðə ˈlɪtəl ˌmɪsəndərˈstændɪŋ breɪks əp ə gʊd riˈleɪʃən\n",
            "\n",
            "ˈwɔtər ɪz waɪn wɪn ˈləvərz kɪs\n",
            "ðə ˈmɔɪsʧər əv ðə aɪz\n",
            "wɪʧ brims* əp ɪn ləvz ˈræpʧər ɪz\n",
            "ðə mɪst əv ˈpɛrəˌdaɪs\n",
            "\n",
            "waɪl ˈstroʊmɪŋ ɪn ə ˈmɛˌdoʊ dip\n",
            "aɪ keɪm əˈpɑn maɪ ləv əsˈlip\n",
            "laɪɪŋ, snuggling* əp tɪ ju\n",
            "wi meɪd ɔl ɑr drimz kəm tru\n",
            "\n",
            "æt ðə ˈrɪvərz ɛʤ wi stænd\n",
            "ˈwɑʧɪŋ ðə ˈwɔtər floʊ\n",
            "ju ənd aɪ ˈhoʊldɪŋ hænz\n",
            "ˈwəndərɪŋ, wɛr wɪl ɪt goʊ\n",
            "\n",
            "ˈɔlˌweɪz ˈflətərɪŋ əraʊnd ə neɪm\n",
            "ˈbətərˌflaɪz pleɪɪŋ geɪmz\n",
            "multi-colors* ɪn dɪsˈmeɪ\n",
            "ˈkɔlɪŋ ɪm kəm ənd pleɪ\n",
            "\n",
            "naʊ soʊ nɪr\n",
            "naʊ soʊ fɑr\n",
            "ju ənd aɪ ər\n",
            "ɪn wət ə kwɪr\n",
            "\n",
            "ɪn ˈreɪni ˈsizən reɪn aɪ bɛr\n",
            "aɪ wərk ɪn ðɪs reɪn\n",
            "aɪ gɪt dr�\n",
            "====================\n",
            "aɪd ˈkərənsi\n",
            "ˈmæskɪŋ treɪlz  ˈmeɪkɪŋ ðə haɪst sim ˈizi\n",
            "ənd iʧ deɪ, livz kənˈtɪnju tɪ rɑb mɔr\n",
            "\n",
            "iʧ tɪ hɪz oʊn, ɛz taɪm həz floʊn\n",
            "ˈlərnɪŋ θɪŋz, ənˈtɪl ˈfʊli groʊn\n",
            "weɪz ər ˈdɪfərənt, əp ənd daʊn\n",
            "ˌɛnˈʤɔɪ laɪf; smaɪl kaʊnts mɔr ðən fraʊn\n",
            "\n",
            "\n",
            "ləv ɪz tɪ ˌɪˈnɪʃiˌeɪt\n",
            "ləv ɪz tɪ ˈkəltəˌveɪt\n",
            "ləv ɪz tɪ prəˈmoʊt\n",
            "ənd æd ənd ˌɪnˈvɛnt\n",
            "\n",
            "ləv ɪz tɪ səˈpɔrt\n",
            "ləv ɪz tɪ əˈsɪst\n",
            "ləv ɪz tɪ fəˈsɪləˌteɪt\n",
            "ənd ˌɪnˈvaɪt ənd fid\n",
            "\n",
            "ləv ɪz tɪ ˈsɛtəl\n",
            "ləv ɪz tɪ riˈzɑlv\n",
            "ləv ɪz tɪ ˈrɛkənˌsaɪl\n",
            "ənd əˈveɪl ənd fʊlˈfɪl\n",
            "\n",
            "ləv ɪz tɪ ˌɛnˈlaɪtən\n",
            "ləv ɪz tɪ ˈhaɪtən\n",
            "ləv ɪz tɪ ˈstrɛŋθən\n",
            "ənd ˈsɔfən ənd ˈwaɪdən\n",
            "\n",
            "ləv ɪz tɪ tɔp\n",
            "ləv ɪz tɪ hoʊp\n",
            "ləv ɪz tɪ meɪk\n",
            "ənd gɪv ənd teɪk\n",
            "\n",
            "ləv ɪz tɪ treɪn\n",
            "ləv ɪz tɪ faɪn\n",
            "ləv ɪz tɪ rɪˈfaɪn\n",
            "ənd geɪn ənd ʧeɪn\n",
            "\n",
            "ləv ɪz tɪ əraʊz\n",
            "ləv ɪz tɪ ˈʧɛrɪʃ\n",
            "ləv ɪz tɪ nərɪʃ\n",
            "ənd təʧ ənd rɪˈfrɛʃ\n",
            "\n",
            "ləv ɪz tɪ fil\n",
            "ləv ɪz tɪ əˈpil\n",
            "ləv ɪz tɪ heɪl\n",
            "ənd hil ənd dandle*\n",
            "\n",
            "ləv ɪz tɪ ɪksˈʧeɪnʤ\n",
            "ləv ɪz tɪ ˈmænɪʤ\n",
            "ləv ɪz tɪ ˈɛksərˌsaɪz\n",
            "ənd ərʤ ənd kərˈɛs\n",
            "\n",
            "ləv ɪz tɪ \n",
            "====================\n",
            "aɪd ɛz ləv ɪz fər ˈɔlˌweɪz wɪθ ə rɪŋ\n",
            "ðə ˈsəmər deɪ hæv səm əv feɪt\n",
            "ˈwɪntər ðə bɑrn wɛr scurries* ə maʊs\n",
            "\n",
            "ðə deɪ stɑrts ɛz ɪt ˈɔlˌweɪz hæd ˈdɛləkət ənd faɪn\n",
            "ðə wik ʧɪŋ keɪm ənd geɪv əˈgɛn ɛz hoʊp\n",
            "ðə mɪst əv ˈpɛrəˌdaɪs ˈwərldˈwaɪn\n",
            "\n",
            "waɪn ɪz ˈsəmər deɪ ənd ɔl ˈɛksərˌflaɪ\n",
            "wi kən du wɪˈθaʊt moʊst θɪŋz ɪn laɪf\n",
            "bət ɪt wʊd ˌɪnˈdid bi fʊl əv straɪf\n",
            "ɛz wi can’t* du wɪˈθaʊt ə ˈfɑrmər\n",
            "\n",
            "ˈhɪstəri əv ðə meɪ deɪ\n",
            "fər ðə ˈfæktəri ˈwərkər\n",
            "frɛʃ bləd hu dɪd peɪ\n",
            "ɪn 1886 ðət ˈvɛri jɪr\n",
            "\n",
            "fər wɛl ˈwərkɪŋ pleɪs\n",
            "eɪt aʊərz pər deɪ ˈduti\n",
            "wɛl ənd ˈdɪgnəˌfaɪd weɪʤ\n",
            "ənd fər ˈsərvɪs sɪˈkjʊrəti\n",
            "\n",
            "ju ər ˈmɛni\n",
            "hum wɪl aɪ kɔl\n",
            "baɪ wən kɔl kəmz hi\n",
            "ənd baɪ əˈnəðər ʃi\n",
            "\n",
            "ðɛr ɪz ˈsəmθɪŋ greɪt tɪ ˈgɑrdənɪŋ\n",
            "ənd ɪn ðiz ˈərli deɪz əv spərɪŋ\n",
            "səm bərdz du ˈfrɑlɪk ənd ˈflətər\n",
            "waɪl ˈəðərz du sɪŋ\n",
            "\n",
            "ðə skaɪ ɪz ˈskætərd ənd ˈfɑlən daʊn\n",
            "ðə ərθ ɪz noʊ mɔr braʊn\n",
            "ˈwɪntər həz ˈbɪdɪn gʊd baɪ tɪ ðə fɔl\n",
            "snoʊ fleɪks hæv ˈwoʊvən ðə waɪt gaʊn\n",
            "\n",
            "ˈvɛri sun ðeɪ hæv ˈstɑrtɪd tɪ krɔl\n",
            "ɔn ðə bɛr triz ˈstændɪŋ tɔl\n",
            "wɪθ ˈkrɪsməs triz, wɪn ðeɪ əˈ\n",
            "====================\n"
          ],
          "name": "stdout"
        }
      ]
    },
    {
      "cell_type": "markdown",
      "metadata": {
        "id": "zjjEN2Tafhl2"
      },
      "source": [
        "For bulk generation, you can generate a large amount of text to a file and sort out the samples locally on your computer. The next cell will generate a generated text file with a unique timestamp.\n",
        "\n",
        "You can rerun the cells as many times as you want for even more generated texts!"
      ]
    },
    {
      "cell_type": "code",
      "metadata": {
        "id": "Fa6p6arifSL0"
      },
      "source": [
        "gen_file = 'gpt2_gentext_{:%Y%m%d_%H%M%S}.txt'.format(datetime.utcnow())\n",
        "\n",
        "gpt2.generate_to_file(sess,\n",
        "                      destination_path=gen_file,\n",
        "                      length=500,\n",
        "                      temperature=0.7,\n",
        "                      nsamples=100,\n",
        "                      batch_size=20\n",
        "                      )"
      ],
      "execution_count": null,
      "outputs": []
    },
    {
      "cell_type": "code",
      "metadata": {
        "id": "0-LRex8lfv1g"
      },
      "source": [
        "# may have to run twice to get file to download\n",
        "files.download(gen_file)"
      ],
      "execution_count": null,
      "outputs": []
    },
    {
      "cell_type": "markdown",
      "metadata": {
        "id": "QQAN3M6RT7Kj"
      },
      "source": [
        "## Generate Text From The Pretrained Model\n",
        "\n",
        "If you want to generate text from the pretrained model, not a finetuned model, pass `model_name` to `gpt2.load_gpt2()` and `gpt2.generate()`.\n",
        "\n",
        "This is currently the only way to generate text from the 774M or 1558M models with this notebook."
      ]
    },
    {
      "cell_type": "code",
      "metadata": {
        "id": "hsUd_jHgUZnD",
        "colab": {
          "base_uri": "https://localhost:8080/",
          "height": 158
        },
        "outputId": "4e0c8a3f-3527-41c4-e3fe-3357f3f8f6c2"
      },
      "source": [
        "model_name = \"774M\"\n",
        "\n",
        "gpt2.download_gpt2(model_name=model_name)"
      ],
      "execution_count": null,
      "outputs": [
        {
          "output_type": "stream",
          "text": [
            "Fetching checkpoint: 1.05Mit [00:00, 354Mit/s]                                                      \n",
            "Fetching encoder.json: 1.05Mit [00:00, 131Mit/s]                                                    \n",
            "Fetching hparams.json: 1.05Mit [00:00, 279Mit/s]                                                    \n",
            "Fetching model.ckpt.data-00000-of-00001: 3.10Git [00:23, 131Mit/s]                                  \n",
            "Fetching model.ckpt.index: 1.05Mit [00:00, 380Mit/s]                                                \n",
            "Fetching model.ckpt.meta: 2.10Mit [00:00, 226Mit/s]                                                 \n",
            "Fetching vocab.bpe: 1.05Mit [00:00, 199Mit/s]                                                       \n"
          ],
          "name": "stderr"
        }
      ]
    },
    {
      "cell_type": "code",
      "metadata": {
        "id": "BAe4NpKNUj2C",
        "colab": {
          "base_uri": "https://localhost:8080/",
          "height": 210
        },
        "outputId": "0a9be310-a584-45a8-e73b-b3561d9ebc06"
      },
      "source": [
        "sess = gpt2.start_tf_sess()\n",
        "\n",
        "gpt2.load_gpt2(sess, model_name=model_name)"
      ],
      "execution_count": null,
      "outputs": [
        {
          "output_type": "error",
          "ename": "NameError",
          "evalue": "ignored",
          "traceback": [
            "\u001b[0;31m---------------------------------------------------------------------------\u001b[0m",
            "\u001b[0;31mNameError\u001b[0m                                 Traceback (most recent call last)",
            "\u001b[0;32m<ipython-input-53-e8a3f5c6cb77>\u001b[0m in \u001b[0;36m<module>\u001b[0;34m()\u001b[0m\n\u001b[1;32m      1\u001b[0m \u001b[0msess\u001b[0m \u001b[0;34m=\u001b[0m \u001b[0mgpt2\u001b[0m\u001b[0;34m.\u001b[0m\u001b[0mstart_tf_sess\u001b[0m\u001b[0;34m(\u001b[0m\u001b[0;34m)\u001b[0m\u001b[0;34m\u001b[0m\u001b[0;34m\u001b[0m\u001b[0m\n\u001b[1;32m      2\u001b[0m \u001b[0;34m\u001b[0m\u001b[0m\n\u001b[0;32m----> 3\u001b[0;31m \u001b[0mgpt2\u001b[0m\u001b[0;34m.\u001b[0m\u001b[0mload_gpt2\u001b[0m\u001b[0;34m(\u001b[0m\u001b[0msess\u001b[0m\u001b[0;34m,\u001b[0m \u001b[0mmodel_name\u001b[0m\u001b[0;34m=\u001b[0m\u001b[0mmodel_name\u001b[0m\u001b[0;34m)\u001b[0m\u001b[0;34m\u001b[0m\u001b[0;34m\u001b[0m\u001b[0m\n\u001b[0m",
            "\u001b[0;31mNameError\u001b[0m: name 'model_name' is not defined"
          ]
        }
      ]
    },
    {
      "cell_type": "code",
      "metadata": {
        "id": "-xInIZKaU104",
        "colab": {
          "base_uri": "https://localhost:8080/",
          "height": 382
        },
        "outputId": "8b9863f3-aaad-403c-8a06-49ab9dd81e1a"
      },
      "source": [
        "gpt2.generate(sess,\n",
        "              model_name=\"run1\",\n",
        "              prefix=\"The secret of life is\",\n",
        "              length=100,\n",
        "              temperature=0.7,\n",
        "              top_p=0.9,\n",
        "              nsamples=5,\n",
        "              batch_size=5\n",
        "              )"
      ],
      "execution_count": null,
      "outputs": [
        {
          "output_type": "error",
          "ename": "FileNotFoundError",
          "evalue": "ignored",
          "traceback": [
            "\u001b[0;31m---------------------------------------------------------------------------\u001b[0m",
            "\u001b[0;31mFileNotFoundError\u001b[0m                         Traceback (most recent call last)",
            "\u001b[0;32m<ipython-input-54-843a2e93933d>\u001b[0m in \u001b[0;36m<module>\u001b[0;34m()\u001b[0m\n\u001b[1;32m      6\u001b[0m               \u001b[0mtop_p\u001b[0m\u001b[0;34m=\u001b[0m\u001b[0;36m0.9\u001b[0m\u001b[0;34m,\u001b[0m\u001b[0;34m\u001b[0m\u001b[0;34m\u001b[0m\u001b[0m\n\u001b[1;32m      7\u001b[0m               \u001b[0mnsamples\u001b[0m\u001b[0;34m=\u001b[0m\u001b[0;36m5\u001b[0m\u001b[0;34m,\u001b[0m\u001b[0;34m\u001b[0m\u001b[0;34m\u001b[0m\u001b[0m\n\u001b[0;32m----> 8\u001b[0;31m               \u001b[0mbatch_size\u001b[0m\u001b[0;34m=\u001b[0m\u001b[0;36m5\u001b[0m\u001b[0;34m\u001b[0m\u001b[0;34m\u001b[0m\u001b[0m\n\u001b[0m\u001b[1;32m      9\u001b[0m               )\n",
            "\u001b[0;32m/usr/local/lib/python3.7/dist-packages/gpt_2_simple/gpt_2.py\u001b[0m in \u001b[0;36mgenerate\u001b[0;34m(sess, run_name, checkpoint_dir, model_name, model_dir, sample_dir, return_as_list, truncate, destination_path, sample_delim, prefix, seed, nsamples, batch_size, length, temperature, top_k, top_p, include_prefix)\u001b[0m\n\u001b[1;32m    444\u001b[0m         \u001b[0mcheckpoint_path\u001b[0m \u001b[0;34m=\u001b[0m \u001b[0mos\u001b[0m\u001b[0;34m.\u001b[0m\u001b[0mpath\u001b[0m\u001b[0;34m.\u001b[0m\u001b[0mjoin\u001b[0m\u001b[0;34m(\u001b[0m\u001b[0mcheckpoint_dir\u001b[0m\u001b[0;34m,\u001b[0m \u001b[0mrun_name\u001b[0m\u001b[0;34m)\u001b[0m\u001b[0;34m\u001b[0m\u001b[0;34m\u001b[0m\u001b[0m\n\u001b[1;32m    445\u001b[0m \u001b[0;34m\u001b[0m\u001b[0m\n\u001b[0;32m--> 446\u001b[0;31m     \u001b[0menc\u001b[0m \u001b[0;34m=\u001b[0m \u001b[0mencoder\u001b[0m\u001b[0;34m.\u001b[0m\u001b[0mget_encoder\u001b[0m\u001b[0;34m(\u001b[0m\u001b[0mcheckpoint_path\u001b[0m\u001b[0;34m)\u001b[0m\u001b[0;34m\u001b[0m\u001b[0;34m\u001b[0m\u001b[0m\n\u001b[0m\u001b[1;32m    447\u001b[0m     \u001b[0mhparams\u001b[0m \u001b[0;34m=\u001b[0m \u001b[0mmodel\u001b[0m\u001b[0;34m.\u001b[0m\u001b[0mdefault_hparams\u001b[0m\u001b[0;34m(\u001b[0m\u001b[0;34m)\u001b[0m\u001b[0;34m\u001b[0m\u001b[0;34m\u001b[0m\u001b[0m\n\u001b[1;32m    448\u001b[0m     \u001b[0;32mwith\u001b[0m \u001b[0mopen\u001b[0m\u001b[0;34m(\u001b[0m\u001b[0mos\u001b[0m\u001b[0;34m.\u001b[0m\u001b[0mpath\u001b[0m\u001b[0;34m.\u001b[0m\u001b[0mjoin\u001b[0m\u001b[0;34m(\u001b[0m\u001b[0mcheckpoint_path\u001b[0m\u001b[0;34m,\u001b[0m \u001b[0;34m'hparams.json'\u001b[0m\u001b[0;34m)\u001b[0m\u001b[0;34m)\u001b[0m \u001b[0;32mas\u001b[0m \u001b[0mf\u001b[0m\u001b[0;34m:\u001b[0m\u001b[0;34m\u001b[0m\u001b[0;34m\u001b[0m\u001b[0m\n",
            "\u001b[0;32m/usr/local/lib/python3.7/dist-packages/gpt_2_simple/src/encoder.py\u001b[0m in \u001b[0;36mget_encoder\u001b[0;34m(checkpoint_path)\u001b[0m\n\u001b[1;32m    107\u001b[0m \u001b[0;34m\u001b[0m\u001b[0m\n\u001b[1;32m    108\u001b[0m \u001b[0;32mdef\u001b[0m \u001b[0mget_encoder\u001b[0m\u001b[0;34m(\u001b[0m\u001b[0mcheckpoint_path\u001b[0m\u001b[0;34m)\u001b[0m\u001b[0;34m:\u001b[0m\u001b[0;34m\u001b[0m\u001b[0;34m\u001b[0m\u001b[0m\n\u001b[0;32m--> 109\u001b[0;31m     \u001b[0;32mwith\u001b[0m \u001b[0mopen\u001b[0m\u001b[0;34m(\u001b[0m\u001b[0mos\u001b[0m\u001b[0;34m.\u001b[0m\u001b[0mpath\u001b[0m\u001b[0;34m.\u001b[0m\u001b[0mjoin\u001b[0m\u001b[0;34m(\u001b[0m\u001b[0mcheckpoint_path\u001b[0m\u001b[0;34m,\u001b[0m \u001b[0;34m'encoder.json'\u001b[0m\u001b[0;34m)\u001b[0m\u001b[0;34m,\u001b[0m \u001b[0;34m'r'\u001b[0m\u001b[0;34m)\u001b[0m \u001b[0;32mas\u001b[0m \u001b[0mf\u001b[0m\u001b[0;34m:\u001b[0m\u001b[0;34m\u001b[0m\u001b[0;34m\u001b[0m\u001b[0m\n\u001b[0m\u001b[1;32m    110\u001b[0m         \u001b[0mencoder\u001b[0m \u001b[0;34m=\u001b[0m \u001b[0mjson\u001b[0m\u001b[0;34m.\u001b[0m\u001b[0mload\u001b[0m\u001b[0;34m(\u001b[0m\u001b[0mf\u001b[0m\u001b[0;34m)\u001b[0m\u001b[0;34m\u001b[0m\u001b[0;34m\u001b[0m\u001b[0m\n\u001b[1;32m    111\u001b[0m     \u001b[0;32mwith\u001b[0m \u001b[0mopen\u001b[0m\u001b[0;34m(\u001b[0m\u001b[0mos\u001b[0m\u001b[0;34m.\u001b[0m\u001b[0mpath\u001b[0m\u001b[0;34m.\u001b[0m\u001b[0mjoin\u001b[0m\u001b[0;34m(\u001b[0m\u001b[0mcheckpoint_path\u001b[0m\u001b[0;34m,\u001b[0m \u001b[0;34m'vocab.bpe'\u001b[0m\u001b[0;34m)\u001b[0m\u001b[0;34m,\u001b[0m \u001b[0;34m'r'\u001b[0m\u001b[0;34m,\u001b[0m \u001b[0mencoding\u001b[0m\u001b[0;34m=\u001b[0m\u001b[0;34m\"utf-8\"\u001b[0m\u001b[0;34m)\u001b[0m \u001b[0;32mas\u001b[0m \u001b[0mf\u001b[0m\u001b[0;34m:\u001b[0m\u001b[0;34m\u001b[0m\u001b[0;34m\u001b[0m\u001b[0m\n",
            "\u001b[0;31mFileNotFoundError\u001b[0m: [Errno 2] No such file or directory: 'models/run1/encoder.json'"
          ]
        }
      ]
    },
    {
      "cell_type": "markdown",
      "metadata": {
        "id": "ig-KVgkCDCKD"
      },
      "source": [
        "# Etcetera\n",
        "\n",
        "If the notebook has errors (e.g. GPU Sync Fail), force-kill the Colaboratory virtual machine and restart it with the command below:"
      ]
    },
    {
      "cell_type": "code",
      "metadata": {
        "id": "rIHiVP53FnsX"
      },
      "source": [
        "!kill -9 -1"
      ],
      "execution_count": null,
      "outputs": []
    },
    {
      "cell_type": "markdown",
      "metadata": {
        "id": "wmTXWNUygS5E"
      },
      "source": [
        "# LICENSE\n",
        "\n",
        "MIT License\n",
        "\n",
        "Copyright (c) 2019 Max Woolf\n",
        "\n",
        "Permission is hereby granted, free of charge, to any person obtaining a copy\n",
        "of this software and associated documentation files (the \"Software\"), to deal\n",
        "in the Software without restriction, including without limitation the rights\n",
        "to use, copy, modify, merge, publish, distribute, sublicense, and/or sell\n",
        "copies of the Software, and to permit persons to whom the Software is\n",
        "furnished to do so, subject to the following conditions:\n",
        "\n",
        "The above copyright notice and this permission notice shall be included in all\n",
        "copies or substantial portions of the Software.\n",
        "\n",
        "THE SOFTWARE IS PROVIDED \"AS IS\", WITHOUT WARRANTY OF ANY KIND, EXPRESS OR\n",
        "IMPLIED, INCLUDING BUT NOT LIMITED TO THE WARRANTIES OF MERCHANTABILITY,\n",
        "FITNESS FOR A PARTICULAR PURPOSE AND NONINFRINGEMENT. IN NO EVENT SHALL THE\n",
        "AUTHORS OR COPYRIGHT HOLDERS BE LIABLE FOR ANY CLAIM, DAMAGES OR OTHER\n",
        "LIABILITY, WHETHER IN AN ACTION OF CONTRACT, TORT OR OTHERWISE, ARISING FROM,\n",
        "OUT OF OR IN CONNECTION WITH THE SOFTWARE OR THE USE OR OTHER DEALINGS IN THE\n",
        "SOFTWARE."
      ]
    }
  ]
}